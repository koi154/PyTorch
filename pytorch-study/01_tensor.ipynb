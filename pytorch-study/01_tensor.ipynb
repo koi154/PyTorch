{
 "cells": [
  {
   "cell_type": "markdown",
   "metadata": {},
   "source": [
    "## 01. 텐서 초기화\n",
    "- 초기화: 텐서에 특정 값을 채워서 생성하는 것\n"
   ]
  },
  {
   "cell_type": "code",
   "execution_count": 2,
   "metadata": {},
   "outputs": [
    {
     "data": {
      "text/plain": [
       "'2.5.1'"
      ]
     },
     "execution_count": 2,
     "metadata": {},
     "output_type": "execute_result"
    }
   ],
   "source": [
    "import torch\n",
    "torch.__version__"
   ]
  },
  {
   "cell_type": "markdown",
   "metadata": {},
   "source": [
    "### 1-1. 초기화 되지 않은 텐서\n",
    "- 특정한 값이 채워지지 않은 상태로 생성하는 것"
   ]
  },
  {
   "cell_type": "code",
   "execution_count": 4,
   "metadata": {},
   "outputs": [
    {
     "name": "stdout",
     "output_type": "stream",
     "text": [
      "tensor([[-3.3157e+12,  1.1224e-42],\n",
      "        [ 0.0000e+00,  0.0000e+00],\n",
      "        [ 0.0000e+00,  0.0000e+00],\n",
      "        [ 0.0000e+00,  0.0000e+00]])\n"
     ]
    }
   ],
   "source": [
    "tensor = torch.empty(4, 2)\n",
    "print(tensor)"
   ]
  },
  {
   "cell_type": "markdown",
   "metadata": {},
   "source": [
    "### 1-2. 상수로 초기화된 텐서\n",
    "- torch.zeros()\n",
    "- torch.ones()\n"
   ]
  },
  {
   "cell_type": "code",
   "execution_count": 11,
   "metadata": {},
   "outputs": [
    {
     "name": "stdout",
     "output_type": "stream",
     "text": [
      "tensor([[1, 1, 1, 1],\n",
      "        [1, 1, 1, 1],\n",
      "        [1, 1, 1, 1]])\n",
      "tensor([[0., 0.],\n",
      "        [0., 0.]])\n"
     ]
    }
   ],
   "source": [
    "a = torch.ones(3, 4, dtype=torch.long) #dtype: 데이터타입 지정\n",
    "b = torch.zeros(2, 2)\n",
    "\n",
    "print(a)\n",
    "print(b)"
   ]
  },
  {
   "cell_type": "markdown",
   "metadata": {},
   "source": [
    "### 1.3 무작위하게 초기화된 Tensor\n",
    "- torch.rand : 0~1 사이의 값으로 무작위로 초기화\n",
    "- torch.randn : 표준정규분포에서 무작위로 초기화"
   ]
  },
  {
   "cell_type": "code",
   "execution_count": 15,
   "metadata": {},
   "outputs": [
    {
     "name": "stdout",
     "output_type": "stream",
     "text": [
      "tensor([[0.6738, 0.4366, 0.3017],\n",
      "        [0.4751, 0.9730, 0.4017],\n",
      "        [0.6309, 0.0245, 0.9563]])\n",
      "tensor([[ 0.0274, -1.2048,  0.8598],\n",
      "        [-0.5414,  0.8068, -0.6011],\n",
      "        [-0.4358, -1.3108,  0.8917]])\n"
     ]
    }
   ],
   "source": [
    "a = torch.rand(3, 3) # 0~1 사이의 값으로 무작위로 초기화\n",
    "b = torch.randn(3, 3) # 표준정규분포에서 무작위로 초기화\n",
    "print(a)\n",
    "print(b)"
   ]
  },
  {
   "cell_type": "markdown",
   "metadata": {},
   "source": [
    "### 1-4. 직접 인력한 값으로 초기화\n"
   ]
  },
  {
   "cell_type": "code",
   "execution_count": 17,
   "metadata": {},
   "outputs": [
    {
     "data": {
      "text/plain": [
       "tensor([[1.0000, 2.3000]])"
      ]
     },
     "execution_count": 17,
     "metadata": {},
     "output_type": "execute_result"
    }
   ],
   "source": [
    "a = torch.tensor([[1, 2.3]])\n",
    "a"
   ]
  },
  {
   "cell_type": "markdown",
   "metadata": {},
   "source": [
    "### 1-5. NumPy 배열로부터 초기화"
   ]
  },
  {
   "cell_type": "code",
   "execution_count": 28,
   "metadata": {},
   "outputs": [
    {
     "name": "stdout",
     "output_type": "stream",
     "text": [
      "[  1   2 100   4   5]\n",
      "tensor([  1,   2, 100,   4,   5])\n"
     ]
    }
   ],
   "source": [
    "import numpy as np\n",
    "nd_arr= np.array([1,2,3])\n",
    "a = torch.from_numpy(nd_arr)\n",
    "\n",
    "# numpy array로 변환\n",
    "b = torch.tensor([1,2,3,4,5])\n",
    "new_nd = b.numpy()\n",
    "new_nd[2] = 100\n",
    "print(new_nd)\n",
    "print(b)"
   ]
  },
  {
   "cell_type": "markdown",
   "metadata": {},
   "source": [
    "### 1-6. 특정 텐서와 같은 타입, 무작위로 값을 채움"
   ]
  },
  {
   "cell_type": "code",
   "execution_count": 26,
   "metadata": {},
   "outputs": [
    {
     "data": {
      "text/plain": [
       "tensor([[0.9350, 0.0773, 0.4726, 0.0962],\n",
       "        [0.0635, 0.5671, 0.6701, 0.1693],\n",
       "        [0.0665, 0.0583, 0.1344, 0.9294]])"
      ]
     },
     "execution_count": 26,
     "metadata": {},
     "output_type": "execute_result"
    }
   ],
   "source": [
    "a = torch.ones(3, 4, dtype=torch.long)\n",
    "b = torch.rand_like(a, dtype=torch.float)\n",
    "b"
   ]
  },
  {
   "cell_type": "markdown",
   "metadata": {},
   "source": [
    "### 1-7. 텐서의 속성"
   ]
  },
  {
   "cell_type": "code",
   "execution_count": 33,
   "metadata": {},
   "outputs": [
    {
     "name": "stdout",
     "output_type": "stream",
     "text": [
      "Shape: torch.Size([3, 4])\n",
      "Size: torch.Size([3, 4])\n",
      "Dtype: torch.float64\n",
      "Device: cpu\n"
     ]
    }
   ],
   "source": [
    "tensor = torch.rand(3, 4, dtype=torch.float64)\n",
    "print(f\"Shape: {tensor.shape}\") \n",
    "print(f\"Size: {tensor.size()}\") \n",
    "print(f\"Dtype: {tensor.dtype}\")\n",
    "print(f\"Device: {tensor.device}\")"
   ]
  },
  {
   "cell_type": "markdown",
   "metadata": {},
   "source": [
    "### 1-8. 특징 타입의 텐서 생성"
   ]
  },
  {
   "cell_type": "code",
   "execution_count": 44,
   "metadata": {},
   "outputs": [
    {
     "name": "stdout",
     "output_type": "stream",
     "text": [
      "torch.float32\n",
      "tensor([1.1000, 2.3000, 3.4000])\n",
      "torch.float32\n"
     ]
    }
   ],
   "source": [
    "tensor = torch.rand(3, 4, dtype=torch.float64)\n",
    "\n",
    "float_tensor = torch.FloatTensor([1,2,3])\n",
    "print(float_tensor.dtype)\n",
    "\n",
    "int_tensor = torch.FloatTensor([1.1,2.3,3.4])\n",
    "print(int_tensor)\n",
    "print(int_tensor.dtype)"
   ]
  },
  {
   "cell_type": "markdown",
   "metadata": {},
   "source": [
    "### 1-9. 데이터 타입 캐스팅\n"
   ]
  },
  {
   "cell_type": "code",
   "execution_count": 46,
   "metadata": {},
   "outputs": [
    {
     "name": "stdout",
     "output_type": "stream",
     "text": [
      "tensor([1, 2, 3], dtype=torch.int32)\n",
      "tensor([1., 2., 3.])\n"
     ]
    }
   ],
   "source": [
    "float_tensor = torch.FloatTensor([1,2,3])\n",
    "print(float_tensor.int())\n",
    "\n",
    "int_tensor = torch.FloatTensor([1,2,3])\n",
    "print(int_tensor.float())"
   ]
  },
  {
   "cell_type": "markdown",
   "metadata": {},
   "source": [
    "### 1-10. CUDA Tensor"
   ]
  },
  {
   "cell_type": "code",
   "execution_count": 5,
   "metadata": {},
   "outputs": [
    {
     "data": {
      "text/plain": [
       "device(type='cuda', index=0)"
      ]
     },
     "execution_count": 5,
     "metadata": {},
     "output_type": "execute_result"
    }
   ],
   "source": [
    "\n",
    "a = torch.ones(3,4, dtype=torch.long)\n",
    "device = torch.device(\"cuda\" if torch.cuda.is_available() else \"cpu\")\n",
    "tensor = tensor.to(device)\n",
    "tensor.device"
   ]
  },
  {
   "cell_type": "markdown",
   "metadata": {},
   "source": [
    "## 1-11. 다차원 Tensor 표현"
   ]
  },
  {
   "cell_type": "markdown",
   "metadata": {},
   "source": [
    "### 1-11-1 0D Tensor(Scalar)\n",
    "- 0D Tensor(scalar) : 하나의 값을 담고 있는 텐서\n"
   ]
  },
  {
   "cell_type": "code",
   "execution_count": 6,
   "metadata": {},
   "outputs": [
    {
     "name": "stdout",
     "output_type": "stream",
     "text": [
      "0\n",
      "torch.Size([])\n",
      "tensor(100)\n"
     ]
    }
   ],
   "source": [
    "t0 = torch.tensor(100)\n",
    "print(t0.ndim)\n",
    "print(t0.shape)\n",
    "print(t0)"
   ]
  },
  {
   "cell_type": "markdown",
   "metadata": {},
   "source": [
    "### 1-11-2 1D Tensor(Vector)\n",
    "- 1D Tensor(Vector) : 값들을 저장하고 있는 리스트와 유사하 텐서"
   ]
  },
  {
   "cell_type": "code",
   "execution_count": 8,
   "metadata": {},
   "outputs": [
    {
     "name": "stdout",
     "output_type": "stream",
     "text": [
      "1\n",
      "torch.Size([3])\n",
      "tensor([1, 2, 3])\n"
     ]
    }
   ],
   "source": [
    "t1 = torch.tensor([1, 2, 3])\n",
    "print(t1.ndim)\n",
    "print(t1.shape)\n",
    "print(t1)"
   ]
  },
  {
   "cell_type": "markdown",
   "metadata": {},
   "source": [
    "### 1-11-3 2D Tensor(Matrix)\n",
    "- 2D Tensor(Matrix) : 행랼과 같은 모양으로 두개의 축이 존재"
   ]
  },
  {
   "cell_type": "code",
   "execution_count": 10,
   "metadata": {},
   "outputs": [
    {
     "name": "stdout",
     "output_type": "stream",
     "text": [
      "2\n",
      "torch.Size([2, 3])\n",
      "tensor([[1, 2, 3],\n",
      "        [4, 5, 6]])\n"
     ]
    }
   ],
   "source": [
    "t2 = torch.tensor([[1, 2, 3],[4,5,6]])\n",
    "print(t2.ndim)\n",
    "print(t2.shape)\n",
    "print(t2)"
   ]
  },
  {
   "cell_type": "markdown",
   "metadata": {},
   "source": [
    "### 1-11-4 3D Tensor(cube)\n",
    "- 큐브와 같은 형태로 세 개의 축이 존재"
   ]
  },
  {
   "cell_type": "code",
   "execution_count": 14,
   "metadata": {},
   "outputs": [
    {
     "name": "stdout",
     "output_type": "stream",
     "text": [
      "3\n",
      "torch.Size([4, 3, 2])\n",
      "tensor([[[1, 2],\n",
      "         [4, 5],\n",
      "         [7, 8]],\n",
      "\n",
      "        [[1, 2],\n",
      "         [4, 5],\n",
      "         [7, 8]],\n",
      "\n",
      "        [[1, 2],\n",
      "         [4, 5],\n",
      "         [7, 8]],\n",
      "\n",
      "        [[1, 2],\n",
      "         [4, 5],\n",
      "         [7, 8]]])\n"
     ]
    }
   ],
   "source": [
    "t3 = torch.tensor([[[1,2], [4,5], [7,8]],\n",
    "                  [[1,2], [4,5], [7,8]],\n",
    "                  [[1,2], [4,5], [7,8]],\n",
    "                  [[1,2], [4,5], [7,8]]\n",
    "                  ])\n",
    "print(t3.ndim)\n",
    "print(t3.shape)\n",
    "print(t3)"
   ]
  },
  {
   "cell_type": "markdown",
   "metadata": {},
   "source": [
    "### 1-11-4. 4D Tensor\n",
    "- 4개의 축"
   ]
  },
  {
   "cell_type": "code",
   "execution_count": 18,
   "metadata": {},
   "outputs": [
    {
     "data": {
      "text/plain": [
       "tensor([[[[0.5505, 0.5343, 0.1070, 0.0571, 0.1303],\n",
       "          [0.0577, 0.8142, 0.5617, 0.0881, 0.6031],\n",
       "          [0.2214, 0.6186, 0.3857, 0.0366, 0.3336],\n",
       "          [0.0019, 0.6350, 0.2710, 0.4275, 0.1876]],\n",
       "\n",
       "         [[0.7862, 0.4917, 0.7873, 0.9167, 0.4198],\n",
       "          [0.9768, 0.8646, 0.2155, 0.5702, 0.9009],\n",
       "          [0.4889, 0.1771, 0.6247, 0.6206, 0.2799],\n",
       "          [0.7839, 0.3831, 0.5594, 0.8454, 0.8190]],\n",
       "\n",
       "         [[0.5639, 0.5741, 0.3243, 0.4780, 0.0151],\n",
       "          [0.8184, 0.1632, 0.2789, 0.8391, 0.3525],\n",
       "          [0.2624, 0.8875, 0.1239, 0.6427, 0.8983],\n",
       "          [0.4057, 0.2296, 0.1108, 0.5752, 0.2447]]],\n",
       "\n",
       "\n",
       "        [[[0.4859, 0.6594, 0.4121, 0.9914, 0.5925],\n",
       "          [0.0426, 0.5293, 0.8782, 0.0217, 0.3668],\n",
       "          [0.2364, 0.4685, 0.2407, 0.8943, 0.1536],\n",
       "          [0.3783, 0.3578, 0.6183, 0.2764, 0.0956]],\n",
       "\n",
       "         [[0.2503, 0.6317, 0.5188, 0.8541, 0.9529],\n",
       "          [0.5606, 0.3444, 0.8909, 0.8288, 0.6941],\n",
       "          [0.0117, 0.7705, 0.4337, 0.2811, 0.8015],\n",
       "          [0.4751, 0.0119, 0.3356, 0.5506, 0.8301]],\n",
       "\n",
       "         [[0.7461, 0.5542, 0.8140, 0.6291, 0.2456],\n",
       "          [0.6079, 0.7441, 0.2801, 0.4797, 0.3482],\n",
       "          [0.7429, 0.3360, 0.7851, 0.4160, 0.6118],\n",
       "          [0.4137, 0.9804, 0.5274, 0.3009, 0.2429]]]])"
      ]
     },
     "execution_count": 18,
     "metadata": {},
     "output_type": "execute_result"
    }
   ],
   "source": [
    "t4 = torch.rand(2,3,4,5)\n",
    "t4"
   ]
  },
  {
   "cell_type": "code",
   "execution_count": null,
   "metadata": {},
   "outputs": [],
   "source": []
  }
 ],
 "metadata": {
  "kernelspec": {
   "display_name": "pytorch-env",
   "language": "python",
   "name": "python3"
  },
  "language_info": {
   "codemirror_mode": {
    "name": "ipython",
    "version": 3
   },
   "file_extension": ".py",
   "mimetype": "text/x-python",
   "name": "python",
   "nbconvert_exporter": "python",
   "pygments_lexer": "ipython3",
   "version": "3.12.8"
  }
 },
 "nbformat": 4,
 "nbformat_minor": 2
}
