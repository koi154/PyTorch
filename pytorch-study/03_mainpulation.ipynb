{
 "cells": [
  {
   "cell_type": "markdown",
   "metadata": {},
   "source": [
    "## 03. Tensor의 조작\n"
   ]
  },
  {
   "cell_type": "markdown",
   "metadata": {},
   "source": [
    "### 3-1. 인덱싱,슬라이싱\n",
    "- numpy처럼 활용"
   ]
  },
  {
   "cell_type": "code",
   "execution_count": 1,
   "metadata": {},
   "outputs": [],
   "source": [
    "import torch"
   ]
  },
  {
   "cell_type": "code",
   "execution_count": 11,
   "metadata": {},
   "outputs": [
    {
     "name": "stdout",
     "output_type": "stream",
     "text": [
      "tensor(2)\n",
      "tensor([1, 2])\n",
      "tensor([4., 5.])\n"
     ]
    },
    {
     "data": {
      "text/plain": [
       "tensor([2, 6])"
      ]
     },
     "execution_count": 11,
     "metadata": {},
     "output_type": "execute_result"
    }
   ],
   "source": [
    "tensor = torch.tensor([[1,2],[3,4]])\n",
    "print(tensor[0,1])  # 2\n",
    "print(tensor[0,:])  # [1,2]\n",
    "\n",
    "a = torch.Tensor([1,2,3,4,5])\n",
    "print(a[-2:])\n",
    "\n",
    "b = torch.tensor([[1,2,3],[4,5,6],[7,8,9]])\n",
    "c = b[b >  5]\n",
    "d = b[b % 2 == 0]\n",
    "e = b[[0,1],[1,2]]\n",
    "e"
   ]
  },
  {
   "cell_type": "markdown",
   "metadata": {},
   "source": [
    "### 3-2.Tensor의 크기,모양 변경"
   ]
  },
  {
   "cell_type": "code",
   "execution_count": 15,
   "metadata": {},
   "outputs": [
    {
     "name": "stdout",
     "output_type": "stream",
     "text": [
      "tensor([[8.8899e-02, 1.3328e-03, 7.8765e-01, 9.1714e-01, 3.9962e-01],\n",
      "        [1.9759e-01, 9.9814e-01, 5.6754e-01, 5.0013e-02, 3.8532e-02],\n",
      "        [8.1570e-01, 7.1563e-01, 2.6631e-04, 5.1582e-01, 4.9079e-01],\n",
      "        [7.8680e-01, 9.3211e-01, 5.5440e-01, 6.2802e-01, 8.6062e-01]])\n",
      "tensor([[8.8899e-02, 1.3328e-03, 7.8765e-01, 9.1714e-01],\n",
      "        [3.9962e-01, 1.9759e-01, 9.9814e-01, 5.6754e-01],\n",
      "        [5.0013e-02, 3.8532e-02, 8.1570e-01, 7.1563e-01],\n",
      "        [2.6631e-04, 5.1582e-01, 4.9079e-01, 7.8680e-01],\n",
      "        [9.3211e-01, 5.5440e-01, 6.2802e-01, 8.6062e-01]])\n",
      "tensor([[8.8899e-02, 1.3328e-03],\n",
      "        [7.8765e-01, 9.1714e-01],\n",
      "        [3.9962e-01, 1.9759e-01],\n",
      "        [9.9814e-01, 5.6754e-01],\n",
      "        [5.0013e-02, 3.8532e-02],\n",
      "        [8.1570e-01, 7.1563e-01],\n",
      "        [2.6631e-04, 5.1582e-01],\n",
      "        [4.9079e-01, 7.8680e-01],\n",
      "        [9.3211e-01, 5.5440e-01],\n",
      "        [6.2802e-01, 8.6062e-01]])\n"
     ]
    }
   ],
   "source": [
    "t = torch.rand(4,5)\n",
    "print(t)\n",
    "x = t.view(5,4)\n",
    "print(x)\n",
    "y = t.view(10,-1)\n",
    "print(y)\n",
    "\n"
   ]
  },
  {
   "cell_type": "markdown",
   "metadata": {},
   "source": [
    "### 3-3. Tensor의 숫자값 얻기"
   ]
  },
  {
   "cell_type": "code",
   "execution_count": 18,
   "metadata": {},
   "outputs": [
    {
     "name": "stdout",
     "output_type": "stream",
     "text": [
      "10\n",
      "tensor([0.7642])\n",
      "0.7642136812210083\n"
     ]
    }
   ],
   "source": [
    "x = torch.tensor(10)\n",
    "print(x.item())\n",
    "\n",
    "y =torch.rand(1)\n",
    "print(y)\n",
    "print(y.item())"
   ]
  },
  {
   "cell_type": "markdown",
   "metadata": {},
   "source": [
    "### 3-4. 차원 축소와 증가"
   ]
  },
  {
   "cell_type": "markdown",
   "metadata": {},
   "source": [
    "#### 3-4-1. 차원 축소(제거)\n",
    "- torch.squeeze() : 크기가 1인 차원을 축소함"
   ]
  },
  {
   "cell_type": "code",
   "execution_count": 20,
   "metadata": {},
   "outputs": [
    {
     "name": "stdout",
     "output_type": "stream",
     "text": [
      "tensor([[[0.7331, 0.8956, 0.7034],\n",
      "         [0.1747, 0.8491, 0.1974],\n",
      "         [0.3077, 0.8087, 0.6354]]])\n",
      "torch.Size([1, 3, 3])\n",
      "tensor([[0.7331, 0.8956, 0.7034],\n",
      "        [0.1747, 0.8491, 0.1974],\n",
      "        [0.3077, 0.8087, 0.6354]])\n",
      "torch.Size([3, 3])\n"
     ]
    }
   ],
   "source": [
    "t = torch.rand(1,3,3)\n",
    "print(t)\n",
    "print(t.shape)\n",
    "\n",
    "ts = torch.squeeze(t)\n",
    "print(ts)\n",
    "print(ts.shape)"
   ]
  },
  {
   "cell_type": "markdown",
   "metadata": {},
   "source": [
    "#### 3-4-2. 차원 증가(생성)\n",
    "- torch.unsqueeze() : 지정한 위치에 새로운 차원을 생성"
   ]
  },
  {
   "cell_type": "code",
   "execution_count": 24,
   "metadata": {},
   "outputs": [
    {
     "name": "stdout",
     "output_type": "stream",
     "text": [
      "tensor([[[0.2612, 0.9575, 0.5988],\n",
      "         [0.6138, 0.7911, 0.4257],\n",
      "         [0.6618, 0.5696, 0.2748]],\n",
      "\n",
      "        [[0.9613, 0.6073, 0.8582],\n",
      "         [0.7310, 0.6014, 0.9635],\n",
      "         [0.4147, 0.2688, 0.1376]],\n",
      "\n",
      "        [[0.4136, 0.5829, 0.8742],\n",
      "         [0.5359, 0.8004, 0.1093],\n",
      "         [0.6487, 0.6138, 0.6495]]])\n",
      "torch.Size([3, 3, 3])\n",
      "tensor([[[[0.2612, 0.9575, 0.5988],\n",
      "          [0.6138, 0.7911, 0.4257],\n",
      "          [0.6618, 0.5696, 0.2748]]],\n",
      "\n",
      "\n",
      "        [[[0.9613, 0.6073, 0.8582],\n",
      "          [0.7310, 0.6014, 0.9635],\n",
      "          [0.4147, 0.2688, 0.1376]]],\n",
      "\n",
      "\n",
      "        [[[0.4136, 0.5829, 0.8742],\n",
      "          [0.5359, 0.8004, 0.1093],\n",
      "          [0.6487, 0.6138, 0.6495]]]])\n",
      "torch.Size([3, 1, 3, 3])\n"
     ]
    }
   ],
   "source": [
    "t = torch.rand(3,3,3)\n",
    "print(t)\n",
    "print(t.shape)\n",
    "\n",
    "ts = torch.unsqueeze(t, 1)\n",
    "print(ts)\n",
    "print(ts.shape)"
   ]
  },
  {
   "cell_type": "markdown",
   "metadata": {},
   "source": [
    "### 3-5. 텐서간 결합\n",
    "- 'torch.stack()' : 동일한 형식의 텐서를 새롭게 그룹화 함\n",
    "    - 새로운 차원이 생성  "
   ]
  },
  {
   "cell_type": "code",
   "execution_count": 26,
   "metadata": {},
   "outputs": [
    {
     "name": "stdout",
     "output_type": "stream",
     "text": [
      "tensor([[[1, 2],\n",
      "         [3, 4]],\n",
      "\n",
      "        [[5, 6],\n",
      "         [7, 8]]])\n",
      "torch.Size([2, 2, 2])\n"
     ]
    }
   ],
   "source": [
    "x = torch.tensor([[1,2],[3,4]])\n",
    "y = torch.tensor([[5,6],[7,8]])\n",
    "z = torch.stack((x,y))\n",
    "print(z)\n",
    "print(z.shape)"
   ]
  },
  {
   "cell_type": "markdown",
   "metadata": {},
   "source": [
    "- 'torch.cat()' : 하나의 텐서로 병합\n",
    "    - 새로운 차원 생성 X"
   ]
  },
  {
   "cell_type": "code",
   "execution_count": 29,
   "metadata": {},
   "outputs": [
    {
     "name": "stdout",
     "output_type": "stream",
     "text": [
      "tensor([[1, 2],\n",
      "        [3, 4],\n",
      "        [5, 6],\n",
      "        [7, 8]])\n",
      "torch.Size([4, 2])\n"
     ]
    }
   ],
   "source": [
    "x = torch.tensor([[1,2],[3,4]])\n",
    "y = torch.tensor([[5,6],[7,8]])\n",
    "\n",
    "z = torch.cat((x,y), dim=0)\n",
    "print(z)\n",
    "print(z.shape)"
   ]
  },
  {
   "cell_type": "markdown",
   "metadata": {},
   "source": [
    "### 3-6. 텐서 나누니기\n",
    "- 'torch.chunk'\n",
    "    - 텐서를 몇개로 나눌지 지정\n",
    "    - 나누어 떨어지지 않으면 마지막 조각은 크기가 다를 수 있음"
   ]
  },
  {
   "cell_type": "code",
   "execution_count": 37,
   "metadata": {},
   "outputs": [
    {
     "name": "stdout",
     "output_type": "stream",
     "text": [
      "tensor([[0.2902, 0.6489, 0.8177],\n",
      "        [0.0484, 0.9251, 0.4106],\n",
      "        [0.7519, 0.6017, 0.5279]])\n",
      "(tensor([[0.2902, 0.6489, 0.8177]]), tensor([[0.0484, 0.9251, 0.4106]]), tensor([[0.7519, 0.6017, 0.5279]]))\n"
     ]
    }
   ],
   "source": [
    "t = torch.rand(3,3)\n",
    "print(t)\n",
    "\n",
    "x = torch.chunk(t, 3, dim=0)\n",
    "\n",
    "print(x)"
   ]
  },
  {
   "cell_type": "markdown",
   "metadata": {},
   "source": [
    "### 텐서\n",
    "- torch.split()\n",
    "    - 텐서의 크기를 기준으로 나눔\n"
   ]
  },
  {
   "cell_type": "code",
   "execution_count": 39,
   "metadata": {},
   "outputs": [
    {
     "name": "stdout",
     "output_type": "stream",
     "text": [
      "tensor([1, 2, 3, 4, 5])\n",
      "tensor([1, 2])\n",
      "tensor([3, 4])\n",
      "tensor([5])\n"
     ]
    }
   ],
   "source": [
    "t = torch.tensor([1,2,3,4,5])\n",
    "print(t)\n",
    "\n",
    "x,y,z = torch.split(t, [2,2,1], dim=0)\n",
    "\n",
    "print(x)\n",
    "print(y)\n",
    "print(z)\n"
   ]
  },
  {
   "cell_type": "code",
   "execution_count": null,
   "metadata": {},
   "outputs": [],
   "source": []
  }
 ],
 "metadata": {
  "kernelspec": {
   "display_name": "pytorch-env",
   "language": "python",
   "name": "python3"
  },
  "language_info": {
   "codemirror_mode": {
    "name": "ipython",
    "version": 3
   },
   "file_extension": ".py",
   "mimetype": "text/x-python",
   "name": "python",
   "nbconvert_exporter": "python",
   "pygments_lexer": "ipython3",
   "version": "3.12.8"
  }
 },
 "nbformat": 4,
 "nbformat_minor": 2
}
