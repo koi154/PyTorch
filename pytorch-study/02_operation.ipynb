{
 "cells": [
  {
   "cell_type": "markdown",
   "metadata": {},
   "source": [
    "## 02. 텐서의 연산"
   ]
  },
  {
   "cell_type": "code",
   "execution_count": 3,
   "metadata": {},
   "outputs": [],
   "source": [
    "import torch\n"
   ]
  },
  {
   "cell_type": "markdown",
   "metadata": {},
   "source": [
    "### 2-1. 산술 연산"
   ]
  },
  {
   "cell_type": "code",
   "execution_count": 5,
   "metadata": {},
   "outputs": [
    {
     "name": "stdout",
     "output_type": "stream",
     "text": [
      "tensor([[0.9158, 0.3555],\n",
      "        [0.9870, 0.5251]])\n",
      "tensor([[1.8316, 0.7109],\n",
      "        [1.9740, 1.0501]])\n",
      "tensor([[2.8316, 1.7109],\n",
      "        [2.9740, 2.0501]])\n"
     ]
    }
   ],
   "source": [
    "tensor = torch.rand(2,2)\n",
    "print (tensor)\n",
    "tensor = tensor * 2\n",
    "print (tensor)\n",
    "tensor = tensor + 1\n",
    "print (tensor)\n",
    "\n"
   ]
  },
  {
   "cell_type": "code",
   "execution_count": 11,
   "metadata": {},
   "outputs": [
    {
     "name": "stdout",
     "output_type": "stream",
     "text": [
      "tensor([[0.0697, 0.0051],\n",
      "        [0.6516, 0.3115]]) tensor([[0.4338, 0.3430],\n",
      "        [0.1911, 0.7295]])\n",
      "tensor([[0.5035, 0.3480],\n",
      "        [0.8427, 1.0410]])\n",
      "tensor([[0.5035, 0.3480],\n",
      "        [0.8427, 1.0410]])\n"
     ]
    }
   ],
   "source": [
    "x = torch.rand(2,2)\n",
    "y = torch.rand(2,2)\n",
    "add = torch.add(x, y)\n",
    "\n",
    "print(x,y)\n",
    "# print(x*y)\n",
    "# print(add)\n",
    "\n",
    "# in-place 바꿔치기 연산\n",
    "add = torch.add(x,y)\n",
    "print(add)\n",
    "y.add_(x)\n",
    "print(y)"
   ]
  },
  {
   "cell_type": "code",
   "execution_count": null,
   "metadata": {},
   "outputs": [],
   "source": []
  }
 ],
 "metadata": {
  "kernelspec": {
   "display_name": "pytorch-env",
   "language": "python",
   "name": "python3"
  },
  "language_info": {
   "codemirror_mode": {
    "name": "ipython",
    "version": 3
   },
   "file_extension": ".py",
   "mimetype": "text/x-python",
   "name": "python",
   "nbconvert_exporter": "python",
   "pygments_lexer": "ipython3",
   "version": "3.12.8"
  }
 },
 "nbformat": 4,
 "nbformat_minor": 2
}
