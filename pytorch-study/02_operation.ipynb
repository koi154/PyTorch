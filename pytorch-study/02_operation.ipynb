{
 "cells": [
  {
   "cell_type": "markdown",
   "metadata": {},
   "source": [
    "## 02. 텐서의 연산"
   ]
  },
  {
   "cell_type": "code",
   "execution_count": 3,
   "metadata": {},
   "outputs": [],
   "source": [
    "import torch\n"
   ]
  },
  {
   "cell_type": "markdown",
   "metadata": {},
   "source": [
    "### 2-1. 산술 연산"
   ]
  },
  {
   "cell_type": "code",
   "execution_count": 5,
   "metadata": {},
   "outputs": [
    {
     "name": "stdout",
     "output_type": "stream",
     "text": [
      "tensor([[0.9158, 0.3555],\n",
      "        [0.9870, 0.5251]])\n",
      "tensor([[1.8316, 0.7109],\n",
      "        [1.9740, 1.0501]])\n",
      "tensor([[2.8316, 1.7109],\n",
      "        [2.9740, 2.0501]])\n"
     ]
    }
   ],
   "source": [
    "tensor = torch.rand(2,2)\n",
    "print (tensor)\n",
    "tensor = tensor * 2\n",
    "print (tensor)\n",
    "tensor = tensor + 1\n",
    "print (tensor)\n",
    "\n"
   ]
  },
  {
   "cell_type": "code",
   "execution_count": 16,
   "metadata": {},
   "outputs": [
    {
     "name": "stdout",
     "output_type": "stream",
     "text": [
      "tensor([[1.5139, 0.3972],\n",
      "        [1.0948, 1.0649]])\n",
      "tensor([[1.5139, 0.3972],\n",
      "        [1.0948, 1.0649]])\n",
      "tensor([[1.5139, 0.3972],\n",
      "        [1.0948, 1.0649]])\n"
     ]
    }
   ],
   "source": [
    "# 더하기\n",
    "x = torch.rand(2,2)\n",
    "y = torch.rand(2,2)\n",
    "add = torch.add(x, y)\n",
    "\n",
    "print(x+y)\n",
    "# print(x*y)\n",
    "# print(add)\n",
    "\n",
    "# in-place 바꿔치기 연산\n",
    "add = torch.add(x,y)\n",
    "print(add)\n",
    "y.add_(x)\n",
    "print(y)"
   ]
  },
  {
   "cell_type": "code",
   "execution_count": 17,
   "metadata": {},
   "outputs": [
    {
     "name": "stdout",
     "output_type": "stream",
     "text": [
      "tensor([[ 0.2303, -0.6111],\n",
      "        [ 0.0770, -0.2381]])\n",
      "tensor([[ 0.2303, -0.6111],\n",
      "        [ 0.0770, -0.2381]])\n"
     ]
    }
   ],
   "source": [
    "# 빼기\n",
    "x = torch.rand(2,2)\n",
    "y = torch.rand(2,2)\n",
    "sub = torch.sub(x, y)\n",
    "print(x-y)\n",
    "print(sub)"
   ]
  },
  {
   "cell_type": "code",
   "execution_count": 18,
   "metadata": {},
   "outputs": [
    {
     "name": "stdout",
     "output_type": "stream",
     "text": [
      "tensor([[0.3097, 0.0780],\n",
      "        [0.6075, 0.3289]])\n",
      "tensor([[0.3097, 0.0780],\n",
      "        [0.6075, 0.3289]])\n"
     ]
    }
   ],
   "source": [
    "# 곱하기\n",
    "x = torch.rand(2,2)\n",
    "y = torch.rand(2,2)\n",
    "mul = torch.mul(x, y)\n",
    "print(x*y)\n",
    "print(mul)"
   ]
  },
  {
   "cell_type": "code",
   "execution_count": 21,
   "metadata": {},
   "outputs": [
    {
     "name": "stdout",
     "output_type": "stream",
     "text": [
      "tensor([[9.0951, 5.0258],\n",
      "        [0.8634, 2.3223]])\n",
      "tensor([[9.0951, 5.0258],\n",
      "        [0.8634, 2.3223]])\n"
     ]
    }
   ],
   "source": [
    "# 나누기\n",
    "x = torch.rand(2,2)\n",
    "y = torch.rand(2,2)\n",
    "div = torch.div(x, y)\n",
    "print(x/y)\n",
    "print(div)"
   ]
  },
  {
   "cell_type": "code",
   "execution_count": null,
   "metadata": {},
   "outputs": [],
   "source": []
  }
 ],
 "metadata": {
  "kernelspec": {
   "display_name": "pytorch-env",
   "language": "python",
   "name": "python3"
  },
  "language_info": {
   "codemirror_mode": {
    "name": "ipython",
    "version": 3
   },
   "file_extension": ".py",
   "mimetype": "text/x-python",
   "name": "python",
   "nbconvert_exporter": "python",
   "pygments_lexer": "ipython3",
   "version": "3.12.8"
  }
 },
 "nbformat": 4,
 "nbformat_minor": 2
}
