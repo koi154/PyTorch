{
 "cells": [
  {
   "cell_type": "markdown",
   "metadata": {},
   "source": [
    "## 04. 자동미분"
   ]
  },
  {
   "cell_type": "code",
   "execution_count": 19,
   "metadata": {},
   "outputs": [],
   "source": [
    "import torch"
   ]
  },
  {
   "cell_type": "markdown",
   "metadata": {},
   "source": [
    "### 4-1. requires_grad\n"
   ]
  },
  {
   "cell_type": "code",
   "execution_count": 20,
   "metadata": {},
   "outputs": [
    {
     "name": "stdout",
     "output_type": "stream",
     "text": [
      "tensor([1., 1., 1.], requires_grad=True)\n",
      "None\n",
      "None\n",
      "True\n"
     ]
    }
   ],
   "source": [
    "x = torch.ones(3, requires_grad=True) # requires_grad=True (자동미분)로 gradient를 계산할 tensor\n",
    "print(x)\n",
    "print(x.grad)\n",
    "print(x.grad_fn)\n",
    "print(x.requires_grad)"
   ]
  },
  {
   "cell_type": "code",
   "execution_count": 21,
   "metadata": {},
   "outputs": [
    {
     "name": "stdout",
     "output_type": "stream",
     "text": [
      "tensor([2., 2., 2.], grad_fn=<MulBackward0>)\n",
      "None\n",
      "<MulBackward0 object at 0x0000019835456AD0>\n",
      "True\n"
     ]
    },
    {
     "name": "stderr",
     "output_type": "stream",
     "text": [
      "C:\\Users\\zer12\\AppData\\Local\\Temp\\ipykernel_14192\\268873173.py:3: UserWarning: The .grad attribute of a Tensor that is not a leaf Tensor is being accessed. Its .grad attribute won't be populated during autograd.backward(). If you indeed want the .grad field to be populated for a non-leaf Tensor, use .retain_grad() on the non-leaf Tensor. If you access the non-leaf Tensor by mistake, make sure you access the leaf Tensor instead. See github.com/pytorch/pytorch/pull/30531 for more informations. (Triggered internally at C:\\cb\\pytorch_1000000000000\\work\\build\\aten\\src\\ATen/core/TensorBody.h:494.)\n",
      "  print(y.grad)\n"
     ]
    }
   ],
   "source": [
    "y = 2 * x\n",
    "print(y)\n",
    "print(y.grad)\n",
    "print(y.grad_fn)\n",
    "print(y.requires_grad)"
   ]
  },
  {
   "cell_type": "code",
   "execution_count": 22,
   "metadata": {},
   "outputs": [
    {
     "name": "stdout",
     "output_type": "stream",
     "text": [
      "tensor([4., 4., 4.], grad_fn=<PowBackward0>)\n"
     ]
    }
   ],
   "source": [
    "z = y ** 2\n",
    "print(z)\n",
    "\n"
   ]
  },
  {
   "cell_type": "markdown",
   "metadata": {},
   "source": [
    "## 4-2. backward()\n",
    "- x -> y -> z 계산에서 역전파를 통해 기울기를 구함"
   ]
  },
  {
   "cell_type": "code",
   "execution_count": 23,
   "metadata": {},
   "outputs": [],
   "source": [
    "result = z.sum()\n",
    "result.backward()"
   ]
  },
  {
   "cell_type": "code",
   "execution_count": 24,
   "metadata": {},
   "outputs": [
    {
     "name": "stdout",
     "output_type": "stream",
     "text": [
      "tensor([4., 4., 4.], grad_fn=<PowBackward0>)\n",
      "tensor([8., 8., 8.])\n"
     ]
    }
   ],
   "source": [
    "print(z)\n",
    "print(x.grad)\n"
   ]
  },
  {
   "cell_type": "markdown",
   "metadata": {},
   "source": [
    "### 4-3. no_grad()\n",
    "- 역전파를 중지"
   ]
  },
  {
   "cell_type": "code",
   "execution_count": 28,
   "metadata": {},
   "outputs": [
    {
     "name": "stdout",
     "output_type": "stream",
     "text": [
      "True\n",
      "True\n",
      "False\n"
     ]
    }
   ],
   "source": [
    "x = torch.tensor(1.0, requires_grad=True)\n",
    "y = x ** 2\n",
    "print(x.requires_grad)\n",
    "\n",
    "with torch.no_grad():\n",
    "    y = (x ** 2)\n",
    "    print(x.requires_grad)\n",
    "    print(y.requires_grad)\n"
   ]
  },
  {
   "cell_type": "markdown",
   "metadata": {},
   "source": [
    "## 4-4. detach()"
   ]
  },
  {
   "cell_type": "code",
   "execution_count": 29,
   "metadata": {},
   "outputs": [
    {
     "data": {
      "text/plain": [
       "tensor(1.)"
      ]
     },
     "execution_count": 29,
     "metadata": {},
     "output_type": "execute_result"
    }
   ],
   "source": [
    "y.detach()"
   ]
  },
  {
   "cell_type": "code",
   "execution_count": 38,
   "metadata": {},
   "outputs": [
    {
     "name": "stdout",
     "output_type": "stream",
     "text": [
      "Collecting matplotlib\n",
      "  Downloading matplotlib-3.10.0-cp312-cp312-win_amd64.whl.metadata (11 kB)\n",
      "Collecting contourpy>=1.0.1 (from matplotlib)\n",
      "  Downloading contourpy-1.3.1-cp312-cp312-win_amd64.whl.metadata (5.4 kB)\n",
      "Collecting cycler>=0.10 (from matplotlib)\n",
      "  Using cached cycler-0.12.1-py3-none-any.whl.metadata (3.8 kB)\n",
      "Collecting fonttools>=4.22.0 (from matplotlib)\n",
      "  Downloading fonttools-4.55.3-cp312-cp312-win_amd64.whl.metadata (168 kB)\n",
      "Collecting kiwisolver>=1.3.1 (from matplotlib)\n",
      "  Downloading kiwisolver-1.4.8-cp312-cp312-win_amd64.whl.metadata (6.3 kB)\n",
      "Requirement already satisfied: numpy>=1.23 in c:\\users\\zer12\\appdata\\local\\anaconda3\\envs\\pytorch-env\\lib\\site-packages (from matplotlib) (2.1.3)\n",
      "Requirement already satisfied: packaging>=20.0 in c:\\users\\zer12\\appdata\\local\\anaconda3\\envs\\pytorch-env\\lib\\site-packages (from matplotlib) (24.2)\n",
      "Requirement already satisfied: pillow>=8 in c:\\users\\zer12\\appdata\\local\\anaconda3\\envs\\pytorch-env\\lib\\site-packages (from matplotlib) (11.0.0)\n",
      "Collecting pyparsing>=2.3.1 (from matplotlib)\n",
      "  Using cached pyparsing-3.2.1-py3-none-any.whl.metadata (5.0 kB)\n",
      "Requirement already satisfied: python-dateutil>=2.7 in c:\\users\\zer12\\appdata\\local\\anaconda3\\envs\\pytorch-env\\lib\\site-packages (from matplotlib) (2.9.0.post0)\n",
      "Requirement already satisfied: six>=1.5 in c:\\users\\zer12\\appdata\\local\\anaconda3\\envs\\pytorch-env\\lib\\site-packages (from python-dateutil>=2.7->matplotlib) (1.17.0)\n",
      "Downloading matplotlib-3.10.0-cp312-cp312-win_amd64.whl (8.0 MB)\n",
      "   ---------------------------------------- 0.0/8.0 MB ? eta -:--:--\n",
      "   - -------------------------------------- 0.3/8.0 MB ? eta -:--:--\n",
      "   -- ------------------------------------- 0.5/8.0 MB 1.9 MB/s eta 0:00:05\n",
      "   ----- ---------------------------------- 1.0/8.0 MB 1.7 MB/s eta 0:00:05\n",
      "   ------ --------------------------------- 1.3/8.0 MB 1.8 MB/s eta 0:00:04\n",
      "   --------- ------------------------------ 1.8/8.0 MB 1.8 MB/s eta 0:00:04\n",
      "   ---------- ----------------------------- 2.1/8.0 MB 1.8 MB/s eta 0:00:04\n",
      "   ------------- -------------------------- 2.6/8.0 MB 1.8 MB/s eta 0:00:03\n",
      "   -------------- ------------------------- 2.9/8.0 MB 1.8 MB/s eta 0:00:03\n",
      "   ---------------- ----------------------- 3.4/8.0 MB 1.8 MB/s eta 0:00:03\n",
      "   ------------------ --------------------- 3.7/8.0 MB 1.8 MB/s eta 0:00:03\n",
      "   ------------------- -------------------- 3.9/8.0 MB 1.8 MB/s eta 0:00:03\n",
      "   ---------------------- ----------------- 4.5/8.0 MB 1.8 MB/s eta 0:00:02\n",
      "   ----------------------- ---------------- 4.7/8.0 MB 1.8 MB/s eta 0:00:02\n",
      "   -------------------------- ------------- 5.2/8.0 MB 1.8 MB/s eta 0:00:02\n",
      "   --------------------------- ------------ 5.5/8.0 MB 1.8 MB/s eta 0:00:02\n",
      "   ---------------------------- ----------- 5.8/8.0 MB 1.8 MB/s eta 0:00:02\n",
      "   ------------------------------- -------- 6.3/8.0 MB 1.8 MB/s eta 0:00:01\n",
      "   -------------------------------- ------- 6.6/8.0 MB 1.8 MB/s eta 0:00:01\n",
      "   --------------------------------- ------ 6.8/8.0 MB 1.8 MB/s eta 0:00:01\n",
      "   ------------------------------------ --- 7.3/8.0 MB 1.8 MB/s eta 0:00:01\n",
      "   ------------------------------------- -- 7.6/8.0 MB 1.8 MB/s eta 0:00:01\n",
      "   ---------------------------------------  7.9/8.0 MB 1.8 MB/s eta 0:00:01\n",
      "   ---------------------------------------- 8.0/8.0 MB 1.8 MB/s eta 0:00:00\n",
      "Downloading contourpy-1.3.1-cp312-cp312-win_amd64.whl (220 kB)\n",
      "Using cached cycler-0.12.1-py3-none-any.whl (8.3 kB)\n",
      "Downloading fonttools-4.55.3-cp312-cp312-win_amd64.whl (2.2 MB)\n",
      "   ---------------------------------------- 0.0/2.2 MB ? eta -:--:--\n",
      "   ---- ----------------------------------- 0.3/2.2 MB ? eta -:--:--\n",
      "   --------- ------------------------------ 0.5/2.2 MB 1.9 MB/s eta 0:00:01\n",
      "   ------------------ --------------------- 1.0/2.2 MB 1.8 MB/s eta 0:00:01\n",
      "   ----------------------- ---------------- 1.3/2.2 MB 1.8 MB/s eta 0:00:01\n",
      "   ---------------------------- ----------- 1.6/2.2 MB 1.7 MB/s eta 0:00:01\n",
      "   ------------------------------------- -- 2.1/2.2 MB 1.8 MB/s eta 0:00:01\n",
      "   ---------------------------------------- 2.2/2.2 MB 1.8 MB/s eta 0:00:00\n",
      "Downloading kiwisolver-1.4.8-cp312-cp312-win_amd64.whl (71 kB)\n",
      "Using cached pyparsing-3.2.1-py3-none-any.whl (107 kB)\n",
      "Installing collected packages: pyparsing, kiwisolver, fonttools, cycler, contourpy, matplotlib\n",
      "Successfully installed contourpy-1.3.1 cycler-0.12.1 fonttools-4.55.3 kiwisolver-1.4.8 matplotlib-3.10.0 pyparsing-3.2.1\n"
     ]
    }
   ],
   "source": [
    "!pip install matplotlib"
   ]
  },
  {
   "cell_type": "code",
   "execution_count": 44,
   "metadata": {},
   "outputs": [
    {
     "name": "stdout",
     "output_type": "stream",
     "text": [
      "Epoch [50 / 400], loss:  3.7848\n",
      "Epoch [100 / 400], loss:  3.7807\n",
      "Epoch [150 / 400], loss:  3.7782\n",
      "Epoch [200 / 400], loss:  3.7767\n",
      "Epoch [250 / 400], loss:  3.7758\n",
      "Epoch [300 / 400], loss:  3.7752\n",
      "Epoch [350 / 400], loss:  3.7749\n",
      "Epoch [400 / 400], loss:  3.7747\n"
     ]
    },
    {
     "data": {
      "image/png": "[encoded data removed]",
      "text/plain": [
       "<Figure size 1000x500 with 2 Axes>"
      ]
     },
     "metadata": {},
     "output_type": "display_data"
    },
    {
     "name": "stdout",
     "output_type": "stream",
     "text": [
      "Model paramters\n",
      "linear.weight : tensor([[3.0254]])\n",
      "linear.bias : tensor([1.7271])\n"
     ]
    }
   ],
   "source": [
    "# 선형회귀 연습\n",
    "import torch.nn as nn\n",
    "import torch.optim as optim\n",
    "import matplotlib.pyplot as plt\n",
    "\n",
    "# 1. 입출력 정희\n",
    "x = torch.linspace(0,10,100).view(-1,1) # 입력 데이터\n",
    "y = 3 * x + 2 + torch.randn(100,1) * 2\n",
    "\n",
    "\n",
    "# 2. 모델 정의\n",
    "class LinearRegressionModel(nn.Module):\n",
    "    def __init__(self):\n",
    "        super(LinearRegressionModel, self).__init__()\n",
    "        self.linear = nn.Linear(1,1) # 입력 1개 출력1개\n",
    "    \n",
    "    def forward(self, x): # forward : 순전파\n",
    "        return self.linear(x)\n",
    "    \n",
    "model = LinearRegressionModel()\n",
    "\n",
    "\n",
    "# 3. 손실함수 정의\n",
    "# 손실함수 선택 : MSE, MAE ...\n",
    "loss_function = nn.MSELoss()\n",
    "\n",
    "# 4. 가중치 업데이트\n",
    "# 경사하강법 -> 어떤 것을 사용할지 선택\n",
    "# lr = Learning rate\n",
    "optimizer = optim.SGD(model.parameters(),lr=0.01) # SGD: 확률적 경사하강법 lr : 러닝메이트\n",
    "\n",
    "# 5. 학습 반복\n",
    "epochs = 400\n",
    "losses = []\n",
    "\n",
    "for epoch in range(epochs):\n",
    "    optimizer.zero_grad() # 한번 돌릴때마다 초기화 (기울기 초기화) \n",
    "    outputs = model(x) # 예측값 계산\n",
    "    loss = loss_function(outputs, y) # outputs과y(결과) 비교, 손실계산\n",
    "    loss.backward() #역전파\n",
    "    optimizer.step() #가중치 업데이트\n",
    "\n",
    "    losses.append(loss.item()) # 손실값 저장\n",
    "\n",
    "    if (epoch + 1) % 50 == 0:\n",
    "        print(f\"Epoch [{epoch + 1} / {epochs}], loss: {loss.item() : .4f}\")\n",
    "\n",
    "# 6. 결과 시각화\n",
    "plt.figure(figsize=(10,5))\n",
    "\n",
    "#손실 감소 그래프\n",
    "plt.subplot(1, 2, 1)\n",
    "plt.plot(losses)\n",
    "plt.ylim(0, 5)\n",
    "plt.title(\"loss over Epochs\")\n",
    "plt.xlabel(\"Epoch\")\n",
    "plt.ylabel(\"loss\")\n",
    "\n",
    "# 데이터와 예측 결과 시각화\n",
    "plt.subplot(1, 2, 2)\n",
    "plt.scatter(x.numpy(), y.numpy(), label=\"Original Data\")\n",
    "plt.plot(x.numpy(), model(x).detach().numpy(), color ='red' ,label=\"Fitted Line\")\n",
    "plt.title(\"Linear Regression Fit\")\n",
    "plt.xlabel(\"x\")\n",
    "plt.ylabel(\"y\")\n",
    "plt.legend()\n",
    "\n",
    "plt.show()\n",
    "\n",
    "# 최종 모델 파라미터 확인\n",
    "print(\"Model paramters\")\n",
    "for name, param in model.named_parameters():\n",
    "    print(f\"{name} : {param.data}\")\n",
    "\n"
   ]
  },
  {
   "cell_type": "code",
   "execution_count": null,
   "metadata": {},
   "outputs": [],
   "source": []
  }
 ],
 "metadata": {
  "kernelspec": {
   "display_name": "pytorch-env",
   "language": "python",
   "name": "python3"
  },
  "language_info": {
   "codemirror_mode": {
    "name": "ipython",
    "version": 3
   },
   "file_extension": ".py",
   "mimetype": "text/x-python",
   "name": "python",
   "nbconvert_exporter": "python",
   "pygments_lexer": "ipython3",
   "version": "3.12.8"
  }
 },
 "nbformat": 4,
 "nbformat_minor": 2
}
